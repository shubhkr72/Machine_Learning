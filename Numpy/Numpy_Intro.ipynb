{
 "cells": [
  {
   "cell_type": "code",
   "execution_count": 1,
   "id": "75067c62-8f85-4208-9d47-f225c3700f3c",
   "metadata": {},
   "outputs": [],
   "source": [
    "import numpy as np"
   ]
  },
  {
   "cell_type": "markdown",
   "id": "734200bf-787a-40b0-bd5f-107109477371",
   "metadata": {},
   "source": [
    "# 1. Numpy DataTypes & Attributes"
   ]
  },
  {
   "cell_type": "code",
   "execution_count": 2,
   "id": "3efa662f-3eca-429f-af83-236bd6167eb5",
   "metadata": {},
   "outputs": [
    {
     "data": {
      "text/plain": [
       "array([1, 2, 3, 4, 5, 6, 7, 8, 9])"
      ]
     },
     "execution_count": 2,
     "metadata": {},
     "output_type": "execute_result"
    }
   ],
   "source": [
    "# numpy main datatype is ndArray\n",
    "a1=np.array([1,2,3,4,5,6,7,8,9])\n",
    "a1\n",
    "# one row 9 columns vector\n",
    "#1D shape=(1,3)"
   ]
  },
  {
   "cell_type": "code",
   "execution_count": 3,
   "id": "a4d7f9c5-58e7-4163-adfb-a0a9895e24c9",
   "metadata": {},
   "outputs": [
    {
     "data": {
      "text/plain": [
       "numpy.ndarray"
      ]
     },
     "execution_count": 3,
     "metadata": {},
     "output_type": "execute_result"
    }
   ],
   "source": [
    "type(a1)"
   ]
  },
  {
   "cell_type": "code",
   "execution_count": 4,
   "id": "29fa10b7-a38b-4313-8bb3-7a1eedef2b1c",
   "metadata": {},
   "outputs": [],
   "source": [
    "a2=np.array([[1,3,4.6,4.9,7],\n",
    "            [1,4,2.7,3,5.5],\n",
    "            [3.5,2.1,5.9,4.6,4]])\n",
    "a3=np.array([[[1,2,3],\n",
    "             [4,5,6],\n",
    "             [7,8,9]],\n",
    "            [[10,11,12],\n",
    "            [23,14,15],\n",
    "            [16,17,18]]])"
   ]
  },
  {
   "cell_type": "code",
   "execution_count": 5,
   "id": "fee70088-3d9a-4bf0-aae0-3f0b65c70d24",
   "metadata": {},
   "outputs": [
    {
     "data": {
      "text/plain": [
       "array([[1. , 3. , 4.6, 4.9, 7. ],\n",
       "       [1. , 4. , 2.7, 3. , 5.5],\n",
       "       [3.5, 2.1, 5.9, 4.6, 4. ]])"
      ]
     },
     "execution_count": 5,
     "metadata": {},
     "output_type": "execute_result"
    }
   ],
   "source": [
    "#2D shape=(3,3) matrix\n",
    "a2"
   ]
  },
  {
   "cell_type": "code",
   "execution_count": 6,
   "id": "072daad1-a8f2-4bd7-b3df-f4de659903bb",
   "metadata": {},
   "outputs": [
    {
     "data": {
      "text/plain": [
       "array([[[ 1,  2,  3],\n",
       "        [ 4,  5,  6],\n",
       "        [ 7,  8,  9]],\n",
       "\n",
       "       [[10, 11, 12],\n",
       "        [23, 14, 15],\n",
       "        [16, 17, 18]]])"
      ]
     },
     "execution_count": 6,
     "metadata": {},
     "output_type": "execute_result"
    }
   ],
   "source": [
    "a3\n",
    "# 3D     r, c,axis\n",
    "# shape=(2,3,3) numpy can visualize"
   ]
  },
  {
   "cell_type": "code",
   "execution_count": 7,
   "id": "9779b2fa-c1f4-4ad2-af0c-0e56e8d98c1f",
   "metadata": {},
   "outputs": [
    {
     "data": {
      "text/plain": [
       "(9,)"
      ]
     },
     "execution_count": 7,
     "metadata": {},
     "output_type": "execute_result"
    }
   ],
   "source": [
    "a1.shape"
   ]
  },
  {
   "cell_type": "code",
   "execution_count": 8,
   "id": "553fab6b-8a06-4132-8ee7-f13ff54f37ae",
   "metadata": {},
   "outputs": [
    {
     "data": {
      "text/plain": [
       "(3, 5)"
      ]
     },
     "execution_count": 8,
     "metadata": {},
     "output_type": "execute_result"
    }
   ],
   "source": [
    "a2.shape"
   ]
  },
  {
   "cell_type": "code",
   "execution_count": 9,
   "id": "7e668215-0e85-491f-bd38-ef8866a8f119",
   "metadata": {},
   "outputs": [
    {
     "data": {
      "text/plain": [
       "(2, 3, 3)"
      ]
     },
     "execution_count": 9,
     "metadata": {},
     "output_type": "execute_result"
    }
   ],
   "source": [
    "a3.shape"
   ]
  },
  {
   "cell_type": "code",
   "execution_count": 10,
   "id": "65af85db-ce08-4976-9c2c-7867590fdf20",
   "metadata": {},
   "outputs": [
    {
     "data": {
      "text/plain": [
       "(1, 2, 3)"
      ]
     },
     "execution_count": 10,
     "metadata": {},
     "output_type": "execute_result"
    }
   ],
   "source": [
    "# ndim=== number of dimensions\n",
    "a1.ndim,a2.ndim,a3.ndim"
   ]
  },
  {
   "cell_type": "code",
   "execution_count": 11,
   "id": "a071af6a-9353-46e0-92b8-c6a1b7b7aef1",
   "metadata": {},
   "outputs": [
    {
     "data": {
      "text/plain": [
       "(dtype('int32'), dtype('float64'), dtype('int32'))"
      ]
     },
     "execution_count": 11,
     "metadata": {},
     "output_type": "execute_result"
    }
   ],
   "source": [
    "a1.dtype,a2.dtype,a3.dtype"
   ]
  },
  {
   "cell_type": "code",
   "execution_count": 12,
   "id": "d73babd7-b7f7-41a6-b6c6-0b26d20adda5",
   "metadata": {},
   "outputs": [
    {
     "data": {
      "text/plain": [
       "(9, 15, 18)"
      ]
     },
     "execution_count": 12,
     "metadata": {},
     "output_type": "execute_result"
    }
   ],
   "source": [
    "a1.size,a2.size,a3.size\n",
    "#Total elements in array"
   ]
  },
  {
   "cell_type": "code",
   "execution_count": 13,
   "id": "6e260587-4dad-466e-bd4f-4eb24c367b6f",
   "metadata": {},
   "outputs": [
    {
     "data": {
      "text/plain": [
       "(numpy.ndarray, numpy.ndarray, numpy.ndarray)"
      ]
     },
     "execution_count": 13,
     "metadata": {},
     "output_type": "execute_result"
    }
   ],
   "source": [
    "type(a1),type(a2),type(a3)"
   ]
  },
  {
   "cell_type": "code",
   "execution_count": 14,
   "id": "6ee5d03d-be8e-43bc-81c4-6809bdf13f55",
   "metadata": {},
   "outputs": [],
   "source": [
    "# ndarray is  universal data type in numpy very flexible"
   ]
  },
  {
   "cell_type": "code",
   "execution_count": 15,
   "id": "dd7be73a-eca1-4473-a50a-1adcb12ea39c",
   "metadata": {},
   "outputs": [
    {
     "data": {
      "text/html": [
       "<div>\n",
       "<style scoped>\n",
       "    .dataframe tbody tr th:only-of-type {\n",
       "        vertical-align: middle;\n",
       "    }\n",
       "\n",
       "    .dataframe tbody tr th {\n",
       "        vertical-align: top;\n",
       "    }\n",
       "\n",
       "    .dataframe thead th {\n",
       "        text-align: right;\n",
       "    }\n",
       "</style>\n",
       "<table border=\"1\" class=\"dataframe\">\n",
       "  <thead>\n",
       "    <tr style=\"text-align: right;\">\n",
       "      <th></th>\n",
       "      <th>0</th>\n",
       "      <th>1</th>\n",
       "      <th>2</th>\n",
       "      <th>3</th>\n",
       "      <th>4</th>\n",
       "    </tr>\n",
       "  </thead>\n",
       "  <tbody>\n",
       "    <tr>\n",
       "      <th>0</th>\n",
       "      <td>1.0</td>\n",
       "      <td>3.0</td>\n",
       "      <td>4.6</td>\n",
       "      <td>4.9</td>\n",
       "      <td>7.0</td>\n",
       "    </tr>\n",
       "    <tr>\n",
       "      <th>1</th>\n",
       "      <td>1.0</td>\n",
       "      <td>4.0</td>\n",
       "      <td>2.7</td>\n",
       "      <td>3.0</td>\n",
       "      <td>5.5</td>\n",
       "    </tr>\n",
       "    <tr>\n",
       "      <th>2</th>\n",
       "      <td>3.5</td>\n",
       "      <td>2.1</td>\n",
       "      <td>5.9</td>\n",
       "      <td>4.6</td>\n",
       "      <td>4.0</td>\n",
       "    </tr>\n",
       "  </tbody>\n",
       "</table>\n",
       "</div>"
      ],
      "text/plain": [
       "     0    1    2    3    4\n",
       "0  1.0  3.0  4.6  4.9  7.0\n",
       "1  1.0  4.0  2.7  3.0  5.5\n",
       "2  3.5  2.1  5.9  4.6  4.0"
      ]
     },
     "execution_count": 15,
     "metadata": {},
     "output_type": "execute_result"
    }
   ],
   "source": [
    "# Create a dataframe from NumPy array\n",
    "import pandas as pd\n",
    "df=pd.DataFrame(a2)\n",
    "df\n",
    "# pandas DataFrame\n",
    "#numpy array in formated way only is called DataFrame"
   ]
  },
  {
   "cell_type": "code",
   "execution_count": 16,
   "id": "59f7ee9f-b16c-4fc7-ac48-2e66e819a36f",
   "metadata": {},
   "outputs": [
    {
     "data": {
      "text/plain": [
       "array([[1. , 3. , 4.6, 4.9, 7. ],\n",
       "       [1. , 4. , 2.7, 3. , 5.5],\n",
       "       [3.5, 2.1, 5.9, 4.6, 4. ]])"
      ]
     },
     "execution_count": 16,
     "metadata": {},
     "output_type": "execute_result"
    }
   ],
   "source": [
    "a2  #numpy array"
   ]
  },
  {
   "cell_type": "code",
   "execution_count": 17,
   "id": "407a695d-9af7-49e2-ab97-7694db4e43b3",
   "metadata": {},
   "outputs": [],
   "source": [
    "# Pandas built on NumPy \n",
    "#machine learning finds patterns in numpy arrays of any type of data\n"
   ]
  },
  {
   "cell_type": "markdown",
   "id": "053c43f1-b40f-4a4d-9af1-a4cc125d90c6",
   "metadata": {},
   "source": [
    "# 2. Creating NumPy Arrays"
   ]
  },
  {
   "cell_type": "code",
   "execution_count": 18,
   "id": "5749f046-9742-43cb-8243-272118e31219",
   "metadata": {},
   "outputs": [],
   "source": [
    "ones=np.ones((2,3))\n",
    "# shift +tab opens up function docstring\n",
    "# only tab---> function suggestion"
   ]
  },
  {
   "cell_type": "code",
   "execution_count": 19,
   "id": "06982dba-1337-4ffd-9b3f-3b0e076d1e1a",
   "metadata": {},
   "outputs": [
    {
     "data": {
      "text/plain": [
       "array([[1., 1., 1.],\n",
       "       [1., 1., 1.]])"
      ]
     },
     "execution_count": 19,
     "metadata": {},
     "output_type": "execute_result"
    }
   ],
   "source": [
    "ones\n",
    "# default is float"
   ]
  },
  {
   "cell_type": "code",
   "execution_count": 20,
   "id": "6860a0c4-d9e1-4ca7-9247-9b897bc12a37",
   "metadata": {},
   "outputs": [
    {
     "data": {
      "text/plain": [
       "dtype('float64')"
      ]
     },
     "execution_count": 20,
     "metadata": {},
     "output_type": "execute_result"
    }
   ],
   "source": [
    "ones.dtype"
   ]
  },
  {
   "cell_type": "code",
   "execution_count": 21,
   "id": "c7448b3a-1579-4628-bba4-eff703e8ba66",
   "metadata": {},
   "outputs": [],
   "source": [
    "Zeros=np.zeros((2,4))"
   ]
  },
  {
   "cell_type": "code",
   "execution_count": 22,
   "id": "13dfd9ec-36ca-4aef-aabc-d97250334d60",
   "metadata": {},
   "outputs": [
    {
     "data": {
      "text/plain": [
       "array([[0., 0., 0., 0.],\n",
       "       [0., 0., 0., 0.]])"
      ]
     },
     "execution_count": 22,
     "metadata": {},
     "output_type": "execute_result"
    }
   ],
   "source": [
    "Zeros"
   ]
  },
  {
   "cell_type": "code",
   "execution_count": 23,
   "id": "36d17756-550c-44dd-ba2c-02b8e2edec19",
   "metadata": {},
   "outputs": [
    {
     "data": {
      "text/plain": [
       "array([ 0,  2,  4,  6,  8, 10, 12, 14, 16, 18])"
      ]
     },
     "execution_count": 23,
     "metadata": {},
     "output_type": "execute_result"
    }
   ],
   "source": [
    "range_array=np.arange(0,20,2)\n",
    "range_array"
   ]
  },
  {
   "cell_type": "code",
   "execution_count": 24,
   "id": "57067070-97f6-499b-abf5-920270bcc206",
   "metadata": {},
   "outputs": [
    {
     "data": {
      "text/plain": [
       "array([[ 6,  3,  7, 16,  8],\n",
       "       [10, 18, 12,  8,  1],\n",
       "       [16,  3, 15, 16,  9],\n",
       "       [ 9, 16, 12,  8, 19]])"
      ]
     },
     "execution_count": 24,
     "metadata": {},
     "output_type": "execute_result"
    }
   ],
   "source": [
    "random_array=np.random.randint(0,20,size=(4,5))\n",
    "random_array"
   ]
  },
  {
   "cell_type": "code",
   "execution_count": 25,
   "id": "8b08f476-766c-4c7c-811c-3be0f50f7be2",
   "metadata": {},
   "outputs": [
    {
     "data": {
      "text/plain": [
       "array([[0.91374   , 0.12426395, 0.74428529, 0.46045809],\n",
       "       [0.2533372 , 0.45797376, 0.79877118, 0.88183801],\n",
       "       [0.41842255, 0.75647766, 0.37298194, 0.47184388],\n",
       "       [0.5576578 , 0.26492725, 0.16813813, 0.8183054 ],\n",
       "       [0.62704839, 0.51400058, 0.53343832, 0.80087769]])"
      ]
     },
     "execution_count": 25,
     "metadata": {},
     "output_type": "execute_result"
    }
   ],
   "source": [
    "random_array_2=np.random.random((5,4))\n",
    "random_array_2"
   ]
  },
  {
   "cell_type": "code",
   "execution_count": 26,
   "id": "1a6827dd-4ef0-417b-9d66-dcb98825369c",
   "metadata": {},
   "outputs": [
    {
     "data": {
      "text/plain": [
       "(5, 4)"
      ]
     },
     "execution_count": 26,
     "metadata": {},
     "output_type": "execute_result"
    }
   ],
   "source": [
    "random_array_2.shape"
   ]
  },
  {
   "cell_type": "code",
   "execution_count": 27,
   "id": "51420bd9-36d1-4914-b118-333eaca420ac",
   "metadata": {},
   "outputs": [
    {
     "data": {
      "text/plain": [
       "array([[0.29458694, 0.96528702, 0.25779562],\n",
       "       [0.77714676, 0.4214912 , 0.36329583],\n",
       "       [0.76179893, 0.27224549, 0.33624988],\n",
       "       [0.70453159, 0.16363043, 0.53331299],\n",
       "       [0.53690619, 0.9158024 , 0.50144824]])"
      ]
     },
     "execution_count": 27,
     "metadata": {},
     "output_type": "execute_result"
    }
   ],
   "source": [
    "random_array_3=np.random.rand(5,3)\n",
    "random_array_3"
   ]
  },
  {
   "cell_type": "code",
   "execution_count": 28,
   "id": "c99812ba-e161-460f-9411-83fab24c04f3",
   "metadata": {},
   "outputs": [],
   "source": [
    "# pseudo random number\n",
    "random_seed=np.random.seed(5)"
   ]
  },
  {
   "cell_type": "code",
   "execution_count": 29,
   "id": "c51feab9-408b-4519-b123-334d3713b32a",
   "metadata": {},
   "outputs": [],
   "source": [
    "random_seed"
   ]
  },
  {
   "cell_type": "markdown",
   "id": "7276d9f6-3baa-4326-b8ca-cd31734b19bf",
   "metadata": {},
   "source": [
    "# 3. Random seed"
   ]
  },
  {
   "cell_type": "code",
   "execution_count": 30,
   "id": "a3ff17c3-ea4c-4c52-a739-9b053d79de9b",
   "metadata": {},
   "outputs": [],
   "source": [
    "import numpy as np"
   ]
  },
  {
   "cell_type": "code",
   "execution_count": 31,
   "id": "93095d92-74af-4e74-8ff9-8d413dd32b22",
   "metadata": {},
   "outputs": [
    {
     "data": {
      "text/plain": [
       "array([[3, 6, 6, 0, 9, 8, 4],\n",
       "       [7, 0, 0, 7, 1, 5, 7],\n",
       "       [0, 1, 4, 6, 2, 9, 9],\n",
       "       [9, 9, 1, 2, 7, 0, 5],\n",
       "       [0, 0, 4, 4, 9, 3, 2]])"
      ]
     },
     "execution_count": 31,
     "metadata": {},
     "output_type": "execute_result"
    }
   ],
   "source": [
    "# pseudo random number\n",
    "np.random.seed(seed=5)\n",
    "random_array_4=np.random.randint(10,size=(5,7))\n",
    "random_array_4\n",
    "# if you put any random function in random.seed() then it will generate random number only once \n",
    "# will not changes upon re - Run otherwise changes everyTime"
   ]
  },
  {
   "cell_type": "code",
   "execution_count": 32,
   "id": "5a055947-f68e-4ef7-895b-cfa82e68efc4",
   "metadata": {},
   "outputs": [],
   "source": [
    "np.random.seed()"
   ]
  },
  {
   "cell_type": "code",
   "execution_count": 33,
   "id": "20ca0565-172c-4821-85eb-395c4c77edc3",
   "metadata": {},
   "outputs": [],
   "source": [
    "# np.random.Generator(1)"
   ]
  },
  {
   "cell_type": "markdown",
   "id": "a5d46c1f-ec23-4ea7-a417-f8e47fcf6705",
   "metadata": {},
   "source": [
    "# 3. Viewing arrays and matrices"
   ]
  },
  {
   "cell_type": "code",
   "execution_count": 34,
   "id": "846f201c-2ceb-4548-b4b5-6158969f6020",
   "metadata": {},
   "outputs": [
    {
     "data": {
      "text/plain": [
       "array([0, 1, 2, 3, 4, 5, 6, 7, 8, 9])"
      ]
     },
     "execution_count": 34,
     "metadata": {},
     "output_type": "execute_result"
    }
   ],
   "source": [
    "np.unique(random_array_4)"
   ]
  },
  {
   "cell_type": "code",
   "execution_count": 35,
   "id": "191c9eae-5f06-4e58-ac50-ca850b6c57fc",
   "metadata": {},
   "outputs": [
    {
     "data": {
      "text/plain": [
       "array([1, 2, 3, 4, 5, 6, 7, 8, 9])"
      ]
     },
     "execution_count": 35,
     "metadata": {},
     "output_type": "execute_result"
    }
   ],
   "source": [
    "a1"
   ]
  },
  {
   "cell_type": "code",
   "execution_count": 36,
   "id": "112da403-31b1-43a6-8f95-dc0cf941760f",
   "metadata": {},
   "outputs": [
    {
     "data": {
      "text/plain": [
       "array([[1. , 3. , 4.6, 4.9, 7. ],\n",
       "       [1. , 4. , 2.7, 3. , 5.5],\n",
       "       [3.5, 2.1, 5.9, 4.6, 4. ]])"
      ]
     },
     "execution_count": 36,
     "metadata": {},
     "output_type": "execute_result"
    }
   ],
   "source": [
    "a2"
   ]
  },
  {
   "cell_type": "code",
   "execution_count": 37,
   "id": "f7dd7c46-2a89-481b-842a-25522b172684",
   "metadata": {},
   "outputs": [
    {
     "data": {
      "text/plain": [
       "array([[[ 1,  2,  3],\n",
       "        [ 4,  5,  6],\n",
       "        [ 7,  8,  9]],\n",
       "\n",
       "       [[10, 11, 12],\n",
       "        [23, 14, 15],\n",
       "        [16, 17, 18]]])"
      ]
     },
     "execution_count": 37,
     "metadata": {},
     "output_type": "execute_result"
    }
   ],
   "source": [
    "a3"
   ]
  },
  {
   "cell_type": "code",
   "execution_count": 38,
   "id": "d7b3c04c-af62-4f73-b467-835d706216f4",
   "metadata": {},
   "outputs": [
    {
     "data": {
      "text/plain": [
       "(1,\n",
       " array([1. , 3. , 4.6, 4.9, 7. ]),\n",
       " array([[1, 2, 3],\n",
       "        [4, 5, 6],\n",
       "        [7, 8, 9]]))"
      ]
     },
     "execution_count": 38,
     "metadata": {},
     "output_type": "execute_result"
    }
   ],
   "source": [
    "a1[0],a2[0],a3[0]"
   ]
  },
  {
   "cell_type": "code",
   "execution_count": 39,
   "id": "aa0428ce-1054-4c91-b84f-5d4670d9bb9b",
   "metadata": {},
   "outputs": [
    {
     "data": {
      "text/plain": [
       "array([[[ 1,  2],\n",
       "        [ 4,  5]],\n",
       "\n",
       "       [[10, 11],\n",
       "        [23, 14]]])"
      ]
     },
     "execution_count": 39,
     "metadata": {},
     "output_type": "execute_result"
    }
   ],
   "source": [
    "#slicing\n",
    "a3[:2,:2,:2]"
   ]
  },
  {
   "cell_type": "code",
   "execution_count": 40,
   "id": "31a2c18d-f08f-48eb-97af-6cd6209a53d6",
   "metadata": {},
   "outputs": [],
   "source": [
    "a4=np.random.randint(10,size=(1,2,3,4,5,6))"
   ]
  },
  {
   "cell_type": "code",
   "execution_count": 41,
   "id": "0e366284-4b15-4f02-8e3b-5a6f7cd93ef2",
   "metadata": {},
   "outputs": [],
   "source": [
    "# a4"
   ]
  },
  {
   "cell_type": "markdown",
   "id": "4c3f0751-b11d-4cd4-979c-aba25926354c",
   "metadata": {},
   "source": [
    "# 4. Manipulating and comparing arrays"
   ]
  },
  {
   "cell_type": "markdown",
   "id": "4ba36b9a-37c7-45b0-a01c-5d2ea68304be",
   "metadata": {},
   "source": [
    "## Arithmetic"
   ]
  },
  {
   "cell_type": "code",
   "execution_count": 42,
   "id": "f82c895a-1916-41ef-9402-ea695c40583c",
   "metadata": {},
   "outputs": [
    {
     "data": {
      "text/plain": [
       "array([1, 2, 3, 4, 5, 6, 7, 8, 9])"
      ]
     },
     "execution_count": 42,
     "metadata": {},
     "output_type": "execute_result"
    }
   ],
   "source": [
    "a1"
   ]
  },
  {
   "cell_type": "code",
   "execution_count": 43,
   "id": "ad65a905-dd83-4c0f-b07a-cbf089b991c1",
   "metadata": {},
   "outputs": [],
   "source": [
    "ones2=np.random.randint(10,size=(1,9))"
   ]
  },
  {
   "cell_type": "code",
   "execution_count": 44,
   "id": "9eb03223-e7de-4aaa-8b5b-93674ca0ce87",
   "metadata": {},
   "outputs": [
    {
     "data": {
      "text/plain": [
       "array([[8, 4, 0, 5, 1, 9, 3, 7, 8]])"
      ]
     },
     "execution_count": 44,
     "metadata": {},
     "output_type": "execute_result"
    }
   ],
   "source": [
    "ones2"
   ]
  },
  {
   "cell_type": "code",
   "execution_count": 45,
   "id": "7ec615cf-3599-46b9-a5d2-fe2b4daea317",
   "metadata": {},
   "outputs": [
    {
     "data": {
      "text/plain": [
       "array([[ 9,  6,  3,  9,  6, 15, 10, 15, 17]])"
      ]
     },
     "execution_count": 45,
     "metadata": {},
     "output_type": "execute_result"
    }
   ],
   "source": [
    "a1+ones2\n",
    "# shape should be same for adding"
   ]
  },
  {
   "cell_type": "code",
   "execution_count": 46,
   "id": "b35058ae-5580-40ee-bdf7-8852febf41bc",
   "metadata": {},
   "outputs": [
    {
     "data": {
      "text/plain": [
       "array([[-7, -2,  3, -1,  4, -3,  4,  1,  1]])"
      ]
     },
     "execution_count": 46,
     "metadata": {},
     "output_type": "execute_result"
    }
   ],
   "source": [
    "a1-ones2"
   ]
  },
  {
   "cell_type": "code",
   "execution_count": 47,
   "id": "16e5a5f4-4055-466d-8c08-2e921db8a192",
   "metadata": {},
   "outputs": [
    {
     "data": {
      "text/plain": [
       "array([[ 8,  8,  0, 20,  5, 54, 21, 56, 72]])"
      ]
     },
     "execution_count": 47,
     "metadata": {},
     "output_type": "execute_result"
    }
   ],
   "source": [
    "a1*ones2"
   ]
  },
  {
   "cell_type": "code",
   "execution_count": 48,
   "id": "2e0e8206-7508-4945-9099-a3ec5cbe39ee",
   "metadata": {},
   "outputs": [],
   "source": [
    "#Two ndarray are compatible to multiply when ones shape is 1 D or both have same shape"
   ]
  },
  {
   "cell_type": "code",
   "execution_count": 49,
   "id": "7eefe435-aa48-4bb8-bd3f-ede3e7dbd88a",
   "metadata": {},
   "outputs": [
    {
     "ename": "ValueError",
     "evalue": "operands could not be broadcast together with shapes (3,5) (2,3,3) ",
     "output_type": "error",
     "traceback": [
      "\u001b[1;31m---------------------------------------------------------------------------\u001b[0m",
      "\u001b[1;31mValueError\u001b[0m                                Traceback (most recent call last)",
      "Cell \u001b[1;32mIn[49], line 1\u001b[0m\n\u001b[1;32m----> 1\u001b[0m \u001b[43ma2\u001b[49m\u001b[38;5;241;43m*\u001b[39;49m\u001b[43ma3\u001b[49m\n\u001b[0;32m      2\u001b[0m \u001b[38;5;66;03m#How can you reshape a2 to be compatible with a3?\u001b[39;00m\n",
      "\u001b[1;31mValueError\u001b[0m: operands could not be broadcast together with shapes (3,5) (2,3,3) "
     ]
    }
   ],
   "source": [
    "a2*a3\n",
    "#How can you reshape a2 to be compatible with a3?"
   ]
  },
  {
   "cell_type": "code",
   "execution_count": null,
   "id": "772fe7a1-7723-459d-b9de-4312e82a4203",
   "metadata": {},
   "outputs": [],
   "source": [
    "a7=np.random.randint(20,size=(5,3))"
   ]
  },
  {
   "cell_type": "code",
   "execution_count": null,
   "id": "37febd01-f9fd-4a74-ab26-5adac004b1ff",
   "metadata": {},
   "outputs": [],
   "source": [
    "a2*a7"
   ]
  },
  {
   "cell_type": "code",
   "execution_count": 50,
   "id": "c7a2367c-311b-4ca6-83a3-1d0b0401d1d3",
   "metadata": {},
   "outputs": [
    {
     "ename": "ValueError",
     "evalue": "operands could not be broadcast together with shapes (3,5) (9,) ",
     "output_type": "error",
     "traceback": [
      "\u001b[1;31m---------------------------------------------------------------------------\u001b[0m",
      "\u001b[1;31mValueError\u001b[0m                                Traceback (most recent call last)",
      "Cell \u001b[1;32mIn[50], line 1\u001b[0m\n\u001b[1;32m----> 1\u001b[0m \u001b[43ma2\u001b[49m\u001b[38;5;241;43m*\u001b[39;49m\u001b[43ma1\u001b[49m\n",
      "\u001b[1;31mValueError\u001b[0m: operands could not be broadcast together with shapes (3,5) (9,) "
     ]
    }
   ],
   "source": [
    "a2*a1"
   ]
  },
  {
   "cell_type": "code",
   "execution_count": 51,
   "id": "5a1e3961-7f80-47de-bcf1-b3abb7dbd0bc",
   "metadata": {},
   "outputs": [],
   "source": [
    "a8n=np.random.randint(20,size=(3,5))"
   ]
  },
  {
   "cell_type": "code",
   "execution_count": 52,
   "id": "861af332-19e5-4f16-9263-e4b8bbc6b8bb",
   "metadata": {},
   "outputs": [
    {
     "data": {
      "text/plain": [
       "array([[ 4. , 51. ,  4.6, 19.6, 14. ],\n",
       "       [ 4. , 24. ,  8.1,  0. , 82.5],\n",
       "       [ 7. ,  8.4, 11.8, 82.8, 68. ]])"
      ]
     },
     "execution_count": 52,
     "metadata": {},
     "output_type": "execute_result"
    }
   ],
   "source": [
    "a2*a8n"
   ]
  },
  {
   "cell_type": "code",
   "execution_count": 53,
   "id": "b7d51fe8-770a-4c69-b153-d82fcebac939",
   "metadata": {},
   "outputs": [],
   "source": [
    "# if both array is of same shape the multiply corresponding elements\n",
    "# if one on size is 1D then it will multiply to all rows or other shape matrix\n"
   ]
  },
  {
   "cell_type": "code",
   "execution_count": 54,
   "id": "a09cece8-9d1c-4cd7-a747-aa4e836054ca",
   "metadata": {},
   "outputs": [
    {
     "name": "stderr",
     "output_type": "stream",
     "text": [
      "C:\\Users\\shubh\\AppData\\Local\\Temp\\ipykernel_10592\\4113620259.py:1: RuntimeWarning: divide by zero encountered in floor_divide\n",
      "  a2//a8n\n"
     ]
    },
    {
     "data": {
      "text/plain": [
       "array([[ 0.,  0.,  4.,  1.,  3.],\n",
       "       [ 0.,  0.,  0., inf,  0.],\n",
       "       [ 1.,  0.,  2.,  0.,  0.]])"
      ]
     },
     "execution_count": 54,
     "metadata": {},
     "output_type": "execute_result"
    }
   ],
   "source": [
    "a2//a8n"
   ]
  },
  {
   "cell_type": "code",
   "execution_count": 55,
   "id": "133acae2-42a3-4899-9fbf-a70c2c29d881",
   "metadata": {},
   "outputs": [
    {
     "data": {
      "text/plain": [
       "array([[ 1.  ,  9.  , 21.16, 24.01, 49.  ],\n",
       "       [ 1.  , 16.  ,  7.29,  9.  , 30.25],\n",
       "       [12.25,  4.41, 34.81, 21.16, 16.  ]])"
      ]
     },
     "execution_count": 55,
     "metadata": {},
     "output_type": "execute_result"
    }
   ],
   "source": [
    "a2**2"
   ]
  },
  {
   "cell_type": "code",
   "execution_count": 56,
   "id": "f2f11127-8d85-44b9-8d92-7554e645ded3",
   "metadata": {},
   "outputs": [
    {
     "data": {
      "text/plain": [
       "array([[ 1.  ,  9.  , 21.16, 24.01, 49.  ],\n",
       "       [ 1.  , 16.  ,  7.29,  9.  , 30.25],\n",
       "       [12.25,  4.41, 34.81, 21.16, 16.  ]])"
      ]
     },
     "execution_count": 56,
     "metadata": {},
     "output_type": "execute_result"
    }
   ],
   "source": [
    "np.square(a2)"
   ]
  },
  {
   "cell_type": "code",
   "execution_count": 57,
   "id": "4cdde5a9-ff63-4230-830c-0b099c7b9f9c",
   "metadata": {},
   "outputs": [
    {
     "data": {
      "text/plain": [
       "array([[0.5 , 1.5 , 2.3 , 2.45, 3.5 ],\n",
       "       [0.5 , 2.  , 1.35, 1.5 , 2.75],\n",
       "       [1.75, 1.05, 2.95, 2.3 , 2.  ]])"
      ]
     },
     "execution_count": 57,
     "metadata": {},
     "output_type": "execute_result"
    }
   ],
   "source": [
    "a2/2"
   ]
  },
  {
   "cell_type": "code",
   "execution_count": 58,
   "id": "34c7f550-6071-4348-a80b-c388b9d8454f",
   "metadata": {},
   "outputs": [
    {
     "data": {
      "text/plain": [
       "array([0.        , 0.69314718, 1.09861229, 1.38629436, 1.60943791,\n",
       "       1.79175947, 1.94591015, 2.07944154, 2.19722458])"
      ]
     },
     "execution_count": 58,
     "metadata": {},
     "output_type": "execute_result"
    }
   ],
   "source": [
    "np.log(a1)"
   ]
  },
  {
   "cell_type": "code",
   "execution_count": 59,
   "id": "c57e8e51-2c1a-4bb1-8df9-f23bfdf3448a",
   "metadata": {},
   "outputs": [
    {
     "data": {
      "text/plain": [
       "array([2.71828183e+00, 7.38905610e+00, 2.00855369e+01, 5.45981500e+01,\n",
       "       1.48413159e+02, 4.03428793e+02, 1.09663316e+03, 2.98095799e+03,\n",
       "       8.10308393e+03])"
      ]
     },
     "execution_count": 59,
     "metadata": {},
     "output_type": "execute_result"
    }
   ],
   "source": [
    "np.exp(a1)"
   ]
  },
  {
   "cell_type": "markdown",
   "id": "0fa6ac14-060d-4466-8f94-ec9e07272c13",
   "metadata": {},
   "source": [
    "## Agreegation"
   ]
  },
  {
   "cell_type": "markdown",
   "id": "99d050b7-062a-459c-83c6-c4d938df8b07",
   "metadata": {},
   "source": [
    "### aggregation= the formation of a number of things into a cluster"
   ]
  },
  {
   "cell_type": "code",
   "execution_count": 60,
   "id": "2232bb6c-48a2-4822-aa77-9ec3264bc08a",
   "metadata": {},
   "outputs": [
    {
     "data": {
      "text/plain": [
       "45"
      ]
     },
     "execution_count": 60,
     "metadata": {},
     "output_type": "execute_result"
    }
   ],
   "source": [
    "list1=[1,2,3,4,5,6,7,8,9]\n",
    "sum(list1)"
   ]
  },
  {
   "cell_type": "code",
   "execution_count": 61,
   "id": "175132d9-c4cd-45e4-8a3e-686e5d706956",
   "metadata": {},
   "outputs": [
    {
     "data": {
      "text/plain": [
       "45"
      ]
     },
     "execution_count": 61,
     "metadata": {},
     "output_type": "execute_result"
    }
   ],
   "source": [
    "sum(a1)"
   ]
  },
  {
   "cell_type": "code",
   "execution_count": 62,
   "id": "99ede0d9-77de-45e9-b986-49d9cf340481",
   "metadata": {},
   "outputs": [
    {
     "data": {
      "text/plain": [
       "45"
      ]
     },
     "execution_count": 62,
     "metadata": {},
     "output_type": "execute_result"
    }
   ],
   "source": [
    "np.sum(a1)"
   ]
  },
  {
   "cell_type": "markdown",
   "id": "1a91c733-e165-4d03-a884-1e470c82d205",
   "metadata": {},
   "source": [
    "### Use python method for Python dataTypes sum()\n",
    "### and Numpy method for Numpy DataTypes np.sum()"
   ]
  },
  {
   "cell_type": "code",
   "execution_count": 63,
   "id": "6a693387-badc-463c-94a6-69ef079ef773",
   "metadata": {},
   "outputs": [
    {
     "data": {
      "text/plain": [
       "100000"
      ]
     },
     "execution_count": 63,
     "metadata": {},
     "output_type": "execute_result"
    }
   ],
   "source": [
    "#Creating a masssive numpy array\n",
    "massive_array=np.random.random(100000)\n",
    "massive_array.size"
   ]
  },
  {
   "cell_type": "code",
   "execution_count": 64,
   "id": "0503dec5-c977-4224-868e-7d44f5a6f560",
   "metadata": {},
   "outputs": [
    {
     "data": {
      "text/plain": [
       "array([0.28379661, 0.60570314, 0.21377796, 0.82341906, 0.94962443,\n",
       "       0.66281554, 0.05934878, 0.94972905, 0.43918392, 0.94505603])"
      ]
     },
     "execution_count": 64,
     "metadata": {},
     "output_type": "execute_result"
    }
   ],
   "source": [
    "massive_array[:10]"
   ]
  },
  {
   "cell_type": "code",
   "execution_count": 65,
   "id": "c2be2169-5d38-4f0c-9c38-aa89bf2bc6ce",
   "metadata": {},
   "outputs": [],
   "source": [
    "# how long a particular line of codes takes time to run\n",
    "# magic function starts by %\n",
    "%timeit"
   ]
  },
  {
   "cell_type": "code",
   "execution_count": 66,
   "id": "2eee6097-b24a-4722-99fc-00dac4e34e3a",
   "metadata": {},
   "outputs": [
    {
     "name": "stdout",
     "output_type": "stream",
     "text": [
      "18.6 ms ± 1.27 ms per loop (mean ± std. dev. of 7 runs, 100 loops each)\n",
      "66.6 µs ± 3.03 µs per loop (mean ± std. dev. of 7 runs, 10,000 loops each)\n"
     ]
    }
   ],
   "source": [
    "%timeit sum(massive_array) #Python's sum()\n",
    "%timeit np.sum(massive_array) # NumPy's Sum()"
   ]
  },
  {
   "cell_type": "code",
   "execution_count": 67,
   "id": "1ffadaeb-a412-4129-8897-2fcceca08cdb",
   "metadata": {},
   "outputs": [
    {
     "data": {
      "text/plain": [
       "269.8907956318253"
      ]
     },
     "execution_count": 67,
     "metadata": {},
     "output_type": "execute_result"
    }
   ],
   "source": [
    "17300/64.1"
   ]
  },
  {
   "cell_type": "code",
   "execution_count": 68,
   "id": "9cb9930e-a2d2-42e2-9f19-d343f89e6262",
   "metadata": {},
   "outputs": [],
   "source": [
    "# numpy sum is 269 times faster than python sum()"
   ]
  },
  {
   "cell_type": "code",
   "execution_count": 69,
   "id": "f7fa43c6-8d5e-44f3-8a60-9e4280268b83",
   "metadata": {},
   "outputs": [
    {
     "data": {
      "text/plain": [
       "3.786666666666667"
      ]
     },
     "execution_count": 69,
     "metadata": {},
     "output_type": "execute_result"
    }
   ],
   "source": [
    "np.mean(a2)"
   ]
  },
  {
   "cell_type": "code",
   "execution_count": 70,
   "id": "97c6b66d-3731-48c8-91a4-3842045eab58",
   "metadata": {},
   "outputs": [
    {
     "data": {
      "text/plain": [
       "1.0"
      ]
     },
     "execution_count": 70,
     "metadata": {},
     "output_type": "execute_result"
    }
   ],
   "source": [
    "np.min(a2)"
   ]
  },
  {
   "cell_type": "code",
   "execution_count": 71,
   "id": "c6ecd5f3-3ee4-4700-ab05-8f9b47d81568",
   "metadata": {},
   "outputs": [
    {
     "data": {
      "text/plain": [
       "7.0"
      ]
     },
     "execution_count": 71,
     "metadata": {},
     "output_type": "execute_result"
    }
   ],
   "source": [
    "np.max(a2)"
   ]
  },
  {
   "cell_type": "code",
   "execution_count": 72,
   "id": "342136f6-1bd0-4c8c-ac37-fd8ea0f0eaf5",
   "metadata": {},
   "outputs": [
    {
     "data": {
      "text/plain": [
       "1.6584597941731627"
      ]
     },
     "execution_count": 72,
     "metadata": {},
     "output_type": "execute_result"
    }
   ],
   "source": [
    "np.std(a2)\n",
    "# full array we can also give axis to calculate"
   ]
  },
  {
   "cell_type": "code",
   "execution_count": 73,
   "id": "cfb41956-e569-4fc5-921e-d97bea7902d7",
   "metadata": {},
   "outputs": [
    {
     "data": {
      "text/plain": [
       "array([1.1785113 , 0.77602978, 1.31402689, 0.83399973, 1.22474487])"
      ]
     },
     "execution_count": 73,
     "metadata": {},
     "output_type": "execute_result"
    }
   ],
   "source": [
    "np.std(a2,axis=0)"
   ]
  },
  {
   "cell_type": "code",
   "execution_count": 74,
   "id": "70834cd4-4763-43cf-939a-20ddbf54960f",
   "metadata": {},
   "outputs": [
    {
     "data": {
      "text/plain": [
       "2.7504888888888894"
      ]
     },
     "execution_count": 74,
     "metadata": {},
     "output_type": "execute_result"
    }
   ],
   "source": [
    "np.var(a2)"
   ]
  },
  {
   "cell_type": "code",
   "execution_count": 75,
   "id": "b1174485-41dc-41df-8618-820f0a755fb9",
   "metadata": {},
   "outputs": [
    {
     "data": {
      "text/plain": [
       "array([1.38888889, 0.60222222, 1.72666667, 0.69555556, 1.5       ])"
      ]
     },
     "execution_count": 75,
     "metadata": {},
     "output_type": "execute_result"
    }
   ],
   "source": [
    "np.var(a2,axis=0)"
   ]
  },
  {
   "cell_type": "code",
   "execution_count": 76,
   "id": "298ae17f-1133-4609-afad-6b040d0f1381",
   "metadata": {},
   "outputs": [],
   "source": [
    " # higher Variance=wider range\n",
    "# standard deviation is sqrt of variance"
   ]
  },
  {
   "cell_type": "markdown",
   "id": "7a2bdf7a-2574-4be0-a90c-ef2c3d86b953",
   "metadata": {},
   "source": [
    "# Variance and Standard Deviation\n",
    "## measure spread of data"
   ]
  },
  {
   "cell_type": "code",
   "execution_count": 77,
   "id": "61da0db7-4d84-4d63-b651-6a2c348ffdad",
   "metadata": {},
   "outputs": [],
   "source": [
    "# demo of var and std\n",
    "high_var_array=([1,100,400,4000,200000])\n",
    "low_var_array=([2,4,6,7,8])"
   ]
  },
  {
   "cell_type": "code",
   "execution_count": 78,
   "id": "ff9b66be-a3bc-4c49-8987-d585b6f135e3",
   "metadata": {},
   "outputs": [
    {
     "data": {
      "text/plain": [
       "(6330407640.159999, 4.64)"
      ]
     },
     "execution_count": 78,
     "metadata": {},
     "output_type": "execute_result"
    }
   ],
   "source": [
    "np.var(high_var_array),np.var(low_var_array)"
   ]
  },
  {
   "cell_type": "code",
   "execution_count": 79,
   "id": "3e7f3cba-aba6-47f5-a7b7-796dfcb4eaae",
   "metadata": {},
   "outputs": [
    {
     "data": {
      "text/plain": [
       "(array([4., 0., 0., 0., 0., 0., 0., 0., 0., 1.]),\n",
       " array([1.000000e+00, 2.000090e+04, 4.000080e+04, 6.000070e+04,\n",
       "        8.000060e+04, 1.000005e+05, 1.200004e+05, 1.400003e+05,\n",
       "        1.600002e+05, 1.800001e+05, 2.000000e+05]),\n",
       " <BarContainer object of 10 artists>)"
      ]
     },
     "execution_count": 79,
     "metadata": {},
     "output_type": "execute_result"
    },
    {
     "data": {
      "image/png": "[encoded data removed]",
      "text/plain": [
       "<Figure size 640x480 with 1 Axes>"
      ]
     },
     "metadata": {},
     "output_type": "display_data"
    }
   ],
   "source": [
    "%matplotlib inline\n",
    "import matplotlib.pyplot as plt\n",
    "plt.hist(high_var_array)"
   ]
  },
  {
   "cell_type": "code",
   "execution_count": 80,
   "id": "c271ccf2-95a7-43a4-9969-2e303cde38b7",
   "metadata": {},
   "outputs": [
    {
     "data": {
      "text/plain": [
       "(array([1., 0., 0., 1., 0., 0., 1., 0., 1., 1.]),\n",
       " array([2. , 2.6, 3.2, 3.8, 4.4, 5. , 5.6, 6.2, 6.8, 7.4, 8. ]),\n",
       " <BarContainer object of 10 artists>)"
      ]
     },
     "execution_count": 80,
     "metadata": {},
     "output_type": "execute_result"
    },
    {
     "data": {
      "image/png": "[encoded data removed]",
      "text/plain": [
       "<Figure size 640x480 with 1 Axes>"
      ]
     },
     "metadata": {},
     "output_type": "display_data"
    }
   ],
   "source": [
    "plt.hist(low_var_array)"
   ]
  },
  {
   "cell_type": "markdown",
   "id": "72843052-cd84-473b-9b90-3f87d6a1d741",
   "metadata": {},
   "source": [
    "# Reshape and Transpose"
   ]
  },
  {
   "cell_type": "code",
   "execution_count": 81,
   "id": "933c723d-5c02-4147-985c-2a27c97b1b2f",
   "metadata": {},
   "outputs": [
    {
     "data": {
      "text/plain": [
       "array([[1. , 3. , 4.6, 4.9, 7. ],\n",
       "       [1. , 4. , 2.7, 3. , 5.5],\n",
       "       [3.5, 2.1, 5.9, 4.6, 4. ]])"
      ]
     },
     "execution_count": 81,
     "metadata": {},
     "output_type": "execute_result"
    }
   ],
   "source": [
    "a2\n"
   ]
  },
  {
   "cell_type": "code",
   "execution_count": 82,
   "id": "e1719bf5-b31c-4d86-b931-e601e55946d8",
   "metadata": {},
   "outputs": [
    {
     "data": {
      "text/plain": [
       "array([[[ 1,  2,  3],\n",
       "        [ 4,  5,  6],\n",
       "        [ 7,  8,  9]],\n",
       "\n",
       "       [[10, 11, 12],\n",
       "        [23, 14, 15],\n",
       "        [16, 17, 18]]])"
      ]
     },
     "execution_count": 82,
     "metadata": {},
     "output_type": "execute_result"
    }
   ],
   "source": [
    "a3"
   ]
  },
  {
   "cell_type": "code",
   "execution_count": 83,
   "id": "22f51d2a-e33c-4c8f-902a-4441e81adf51",
   "metadata": {},
   "outputs": [
    {
     "data": {
      "text/plain": [
       "((3, 5), (2, 3, 3))"
      ]
     },
     "execution_count": 83,
     "metadata": {},
     "output_type": "execute_result"
    }
   ],
   "source": [
    "a2.shape ,a3.shape"
   ]
  },
  {
   "cell_type": "code",
   "execution_count": 84,
   "id": "56bbb43c-0a83-4e44-8104-1eaf0b76fc74",
   "metadata": {},
   "outputs": [
    {
     "data": {
      "text/plain": [
       "array([[[1. ],\n",
       "        [3. ],\n",
       "        [4.6]],\n",
       "\n",
       "       [[4.9],\n",
       "        [7. ],\n",
       "        [1. ]],\n",
       "\n",
       "       [[4. ],\n",
       "        [2.7],\n",
       "        [3. ]],\n",
       "\n",
       "       [[5.5],\n",
       "        [3.5],\n",
       "        [2.1]],\n",
       "\n",
       "       [[5.9],\n",
       "        [4.6],\n",
       "        [4. ]]])"
      ]
     },
     "execution_count": 84,
     "metadata": {},
     "output_type": "execute_result"
    }
   ],
   "source": [
    "a2.reshape(5,3,1)\n",
    "# containing same data with new shape\n",
    "# to reshape number of elements should be same"
   ]
  },
  {
   "cell_type": "markdown",
   "id": "62b3c420-3530-4835-ad22-bf427d45078d",
   "metadata": {},
   "source": [
    "### Transpose"
   ]
  },
  {
   "cell_type": "code",
   "execution_count": 85,
   "id": "29759ed9-52f0-4909-9cda-0c56c39a3296",
   "metadata": {},
   "outputs": [
    {
     "data": {
      "text/plain": [
       "array([[1. , 1. , 3.5],\n",
       "       [3. , 4. , 2.1],\n",
       "       [4.6, 2.7, 5.9],\n",
       "       [4.9, 3. , 4.6],\n",
       "       [7. , 5.5, 4. ]])"
      ]
     },
     "execution_count": 85,
     "metadata": {},
     "output_type": "execute_result"
    }
   ],
   "source": [
    "a2.T"
   ]
  },
  {
   "cell_type": "code",
   "execution_count": 86,
   "id": "bcf4bf35-03be-4c5a-a095-d318fdf68574",
   "metadata": {},
   "outputs": [
    {
     "data": {
      "text/plain": [
       "((3, 5), (5, 3))"
      ]
     },
     "execution_count": 86,
     "metadata": {},
     "output_type": "execute_result"
    }
   ],
   "source": [
    "a2.shape ,a2.T.shape"
   ]
  },
  {
   "cell_type": "code",
   "execution_count": 87,
   "id": "67a01a74-7ce1-4033-af25-18e595290ac2",
   "metadata": {},
   "outputs": [
    {
     "data": {
      "text/plain": [
       "(1, 2, 3, 4, 5, 6)"
      ]
     },
     "execution_count": 87,
     "metadata": {},
     "output_type": "execute_result"
    }
   ],
   "source": [
    "a4.shape"
   ]
  },
  {
   "cell_type": "markdown",
   "id": "ef452bd5-027e-4daa-9c4b-2a8b4b86051c",
   "metadata": {},
   "source": [
    "# Dot Product"
   ]
  },
  {
   "cell_type": "code",
   "execution_count": 88,
   "id": "af67aed4-8ce9-48d5-830a-3594ed6ae610",
   "metadata": {},
   "outputs": [],
   "source": [
    "# dot product is used to find pattern between to array\n",
    "# np.dot()\n",
    "np.random.seed(0)\n",
    "mat1=np.random.randint(10,size=(3,3))\n",
    "mat2=np.random.randint(10,size=(3,3))"
   ]
  },
  {
   "cell_type": "code",
   "execution_count": 89,
   "id": "5bf193f1-545a-4cb0-bf94-a8606f759876",
   "metadata": {},
   "outputs": [
    {
     "data": {
      "text/plain": [
       "array([[5, 0, 3],\n",
       "       [3, 7, 9],\n",
       "       [3, 5, 2]])"
      ]
     },
     "execution_count": 89,
     "metadata": {},
     "output_type": "execute_result"
    }
   ],
   "source": [
    "mat1"
   ]
  },
  {
   "cell_type": "code",
   "execution_count": 90,
   "id": "63487dcf-8f72-4a50-bf8a-8d35de1395af",
   "metadata": {},
   "outputs": [
    {
     "data": {
      "text/plain": [
       "array([[4, 7, 6],\n",
       "       [8, 8, 1],\n",
       "       [6, 7, 7]])"
      ]
     },
     "execution_count": 90,
     "metadata": {},
     "output_type": "execute_result"
    }
   ],
   "source": [
    "mat2"
   ]
  },
  {
   "cell_type": "markdown",
   "id": "d882218b-005c-493d-aa5b-1e7ed3c1feb8",
   "metadata": {},
   "source": [
    "### Hadamard product"
   ]
  },
  {
   "cell_type": "code",
   "execution_count": 91,
   "id": "0194f2b0-475b-4a2a-b9b9-23357f036cb0",
   "metadata": {},
   "outputs": [],
   "source": [
    "mat3=mat1*mat2\n",
    "# multiplication is by elementwise\n",
    "# hadamard product"
   ]
  },
  {
   "cell_type": "code",
   "execution_count": null,
   "id": "c7d97831-2ee2-407b-be39-cfcd3b85925c",
   "metadata": {},
   "outputs": [],
   "source": []
  },
  {
   "cell_type": "code",
   "execution_count": 92,
   "id": "37ef9d3a-3487-4366-bce4-e82f6fa08d5b",
   "metadata": {},
   "outputs": [
    {
     "data": {
      "text/plain": [
       "array([[20,  0, 18],\n",
       "       [24, 56,  9],\n",
       "       [18, 35, 14]])"
      ]
     },
     "execution_count": 92,
     "metadata": {},
     "output_type": "execute_result"
    }
   ],
   "source": [
    "mat3"
   ]
  },
  {
   "cell_type": "code",
   "execution_count": 93,
   "id": "5faea341-d865-4fa1-85bb-cbdb7f767cc6",
   "metadata": {},
   "outputs": [
    {
     "data": {
      "text/plain": [
       "array([[ 38,  56,  51],\n",
       "       [122, 140,  88],\n",
       "       [ 64,  75,  37]])"
      ]
     },
     "execution_count": 93,
     "metadata": {},
     "output_type": "execute_result"
    }
   ],
   "source": [
    "np.dot(mat1,mat2)\n",
    "# same as matrix multiplication\n",
    "# m1=(axb),m2=(cxd) only we can find dot when b==c;"
   ]
  },
  {
   "cell_type": "code",
   "execution_count": 94,
   "id": "dc8a49c2-56c0-400f-be21-7b1199e7841b",
   "metadata": {},
   "outputs": [
    {
     "data": {
      "image/png": "[encoded data removed]",
      "text/plain": [
       "<PIL.PngImagePlugin.PngImageFile image mode=RGBA size=1267x703>"
      ]
     },
     "execution_count": 94,
     "metadata": {},
     "output_type": "execute_result"
    }
   ],
   "source": [
    "from PIL import Image\n",
    "Image.open(\"Dot_product.png\")"
   ]
  },
  {
   "cell_type": "code",
   "execution_count": 95,
   "id": "b2cff075-e44c-4b1c-9995-f74ce9608280",
   "metadata": {},
   "outputs": [
    {
     "data": {
      "image/png": "[encoded data removed]",
      "text/plain": [
       "<PIL.PngImagePlugin.PngImageFile image mode=RGBA size=1267x709>"
      ]
     },
     "execution_count": 95,
     "metadata": {},
     "output_type": "execute_result"
    }
   ],
   "source": [
    "from PIL import Image\n",
    "Image.open(\"Dot_product2.png\")"
   ]
  },
  {
   "cell_type": "markdown",
   "id": "9dcf4d19-518e-4078-8b9e-e9ea3f511bf6",
   "metadata": {},
   "source": [
    "# Nut Butter Sales"
   ]
  },
  {
   "cell_type": "markdown",
   "id": "df761018-1f28-4343-bf61-afcfdbf96efa",
   "metadata": {},
   "source": [
    "# Usage of Dot product"
   ]
  },
  {
   "cell_type": "code",
   "execution_count": 96,
   "id": "840c6bc7-9406-43c2-90f3-d844d8d7d469",
   "metadata": {},
   "outputs": [],
   "source": [
    "#Creating our nut butter sales data"
   ]
  },
  {
   "cell_type": "code",
   "execution_count": 97,
   "id": "98f7773d-1d13-4efe-aa61-9d7ee0e32961",
   "metadata": {},
   "outputs": [
    {
     "data": {
      "text/plain": [
       "array([[17, 16, 15],\n",
       "       [ 9,  0,  5],\n",
       "       [ 8,  0,  8],\n",
       "       [ 8,  2, 15],\n",
       "       [13, 19, 11],\n",
       "       [ 1,  1,  5]])"
      ]
     },
     "execution_count": 97,
     "metadata": {},
     "output_type": "execute_result"
    }
   ],
   "source": [
    "np.random.seed()\n",
    "sales_amount=np.random.randint(20,size=(6,3))\n",
    "sales_amount"
   ]
  },
  {
   "cell_type": "code",
   "execution_count": 98,
   "id": "010810e0-6096-4841-b9e3-17e1b44af769",
   "metadata": {},
   "outputs": [
    {
     "data": {
      "text/html": [
       "<div>\n",
       "<style scoped>\n",
       "    .dataframe tbody tr th:only-of-type {\n",
       "        vertical-align: middle;\n",
       "    }\n",
       "\n",
       "    .dataframe tbody tr th {\n",
       "        vertical-align: top;\n",
       "    }\n",
       "\n",
       "    .dataframe thead th {\n",
       "        text-align: right;\n",
       "    }\n",
       "</style>\n",
       "<table border=\"1\" class=\"dataframe\">\n",
       "  <thead>\n",
       "    <tr style=\"text-align: right;\">\n",
       "      <th></th>\n",
       "      <th>Almond</th>\n",
       "      <th>Cashew</th>\n",
       "      <th>Peanut</th>\n",
       "    </tr>\n",
       "  </thead>\n",
       "  <tbody>\n",
       "    <tr>\n",
       "      <th>Mon</th>\n",
       "      <td>17</td>\n",
       "      <td>16</td>\n",
       "      <td>15</td>\n",
       "    </tr>\n",
       "    <tr>\n",
       "      <th>Tues</th>\n",
       "      <td>9</td>\n",
       "      <td>0</td>\n",
       "      <td>5</td>\n",
       "    </tr>\n",
       "    <tr>\n",
       "      <th>wed</th>\n",
       "      <td>8</td>\n",
       "      <td>0</td>\n",
       "      <td>8</td>\n",
       "    </tr>\n",
       "    <tr>\n",
       "      <th>Thu</th>\n",
       "      <td>8</td>\n",
       "      <td>2</td>\n",
       "      <td>15</td>\n",
       "    </tr>\n",
       "    <tr>\n",
       "      <th>Fri</th>\n",
       "      <td>13</td>\n",
       "      <td>19</td>\n",
       "      <td>11</td>\n",
       "    </tr>\n",
       "    <tr>\n",
       "      <th>Sat</th>\n",
       "      <td>1</td>\n",
       "      <td>1</td>\n",
       "      <td>5</td>\n",
       "    </tr>\n",
       "  </tbody>\n",
       "</table>\n",
       "</div>"
      ],
      "text/plain": [
       "      Almond  Cashew  Peanut\n",
       "Mon       17      16      15\n",
       "Tues       9       0       5\n",
       "wed        8       0       8\n",
       "Thu        8       2      15\n",
       "Fri       13      19      11\n",
       "Sat        1       1       5"
      ]
     },
     "execution_count": 98,
     "metadata": {},
     "output_type": "execute_result"
    }
   ],
   "source": [
    "weekly_sales=pd.DataFrame(sales_amount,index=[\"Mon\",\"Tues\",\"wed\",\"Thu\",\"Fri\",\"Sat\"],columns=[\"Almond\",\"Cashew\",\"Peanut\"])\n",
    "weekly_sales"
   ]
  },
  {
   "cell_type": "code",
   "execution_count": 99,
   "id": "7b04ddc6-9532-4d86-bbf3-7d34aeb1ab27",
   "metadata": {},
   "outputs": [
    {
     "data": {
      "text/plain": [
       "(3,)"
      ]
     },
     "execution_count": 99,
     "metadata": {},
     "output_type": "execute_result"
    }
   ],
   "source": [
    "# Create prices array\n",
    "prices=np.array([10,8,12])\n",
    "prices.shape"
   ]
  },
  {
   "cell_type": "code",
   "execution_count": 100,
   "id": "7dff5611-e1f1-429b-a749-1308965ad403",
   "metadata": {},
   "outputs": [
    {
     "data": {
      "text/html": [
       "<div>\n",
       "<style scoped>\n",
       "    .dataframe tbody tr th:only-of-type {\n",
       "        vertical-align: middle;\n",
       "    }\n",
       "\n",
       "    .dataframe tbody tr th {\n",
       "        vertical-align: top;\n",
       "    }\n",
       "\n",
       "    .dataframe thead th {\n",
       "        text-align: right;\n",
       "    }\n",
       "</style>\n",
       "<table border=\"1\" class=\"dataframe\">\n",
       "  <thead>\n",
       "    <tr style=\"text-align: right;\">\n",
       "      <th></th>\n",
       "      <th>Almond</th>\n",
       "      <th>Cashew</th>\n",
       "      <th>Peanut</th>\n",
       "    </tr>\n",
       "  </thead>\n",
       "  <tbody>\n",
       "    <tr>\n",
       "      <th>Price</th>\n",
       "      <td>10</td>\n",
       "      <td>8</td>\n",
       "      <td>12</td>\n",
       "    </tr>\n",
       "  </tbody>\n",
       "</table>\n",
       "</div>"
      ],
      "text/plain": [
       "       Almond  Cashew  Peanut\n",
       "Price      10       8      12"
      ]
     },
     "execution_count": 100,
     "metadata": {},
     "output_type": "execute_result"
    }
   ],
   "source": [
    "# //create butter prices dataframe\n",
    "butter_prices=pd.DataFrame(prices.reshape(1,3),index=[\"Price\"],columns=[\"Almond\",\"Cashew\",\"Peanut\"])\n",
    "butter_prices"
   ]
  },
  {
   "cell_type": "code",
   "execution_count": 101,
   "id": "f46866ce-bbde-4a9d-bcf7-2eb54968224e",
   "metadata": {},
   "outputs": [
    {
     "data": {
      "text/plain": [
       "(1, 3)"
      ]
     },
     "execution_count": 101,
     "metadata": {},
     "output_type": "execute_result"
    }
   ],
   "source": [
    "butter_prices.shape"
   ]
  },
  {
   "cell_type": "code",
   "execution_count": 102,
   "id": "3cbfa698-d2a2-4033-8942-35c0ea48fe62",
   "metadata": {},
   "outputs": [
    {
     "data": {
      "text/plain": [
       "(6, 3)"
      ]
     },
     "execution_count": 102,
     "metadata": {},
     "output_type": "execute_result"
    }
   ],
   "source": [
    "weekly_sales.shape"
   ]
  },
  {
   "cell_type": "code",
   "execution_count": 103,
   "id": "4d4036f3-73ff-4102-b7dd-6e869115d439",
   "metadata": {},
   "outputs": [],
   "source": [
    "# butter_prices=butter_prices.T"
   ]
  },
  {
   "cell_type": "code",
   "execution_count": 104,
   "id": "060199b3-01e4-4706-ab66-953a85547a87",
   "metadata": {},
   "outputs": [],
   "source": [
    "Total_sales=np.dot(butter_prices,weekly_sales.T)"
   ]
  },
  {
   "cell_type": "code",
   "execution_count": 105,
   "id": "9fbbe783-6382-4cf1-8721-96611e1544ca",
   "metadata": {},
   "outputs": [
    {
     "data": {
      "text/plain": [
       "array([[478, 150, 176, 276, 414,  78]])"
      ]
     },
     "execution_count": 105,
     "metadata": {},
     "output_type": "execute_result"
    }
   ],
   "source": [
    "Total_sales"
   ]
  },
  {
   "cell_type": "code",
   "execution_count": 106,
   "id": "e8088fc6-3462-46f4-8b77-18e89b0d7a80",
   "metadata": {},
   "outputs": [
    {
     "ename": "ValueError",
     "evalue": "Cannot set a DataFrame with multiple columns to the single column Total_sales",
     "output_type": "error",
     "traceback": [
      "\u001b[1;31m---------------------------------------------------------------------------\u001b[0m",
      "\u001b[1;31mValueError\u001b[0m                                Traceback (most recent call last)",
      "\u001b[1;32m~\\AppData\\Local\\Temp\\ipykernel_10592\\195047676.py\u001b[0m in \u001b[0;36m?\u001b[1;34m()\u001b[0m\n\u001b[1;32m----> 1\u001b[1;33m \u001b[0mweekly_sales\u001b[0m\u001b[1;33m[\u001b[0m\u001b[1;34m\"Total_sales\"\u001b[0m\u001b[1;33m]\u001b[0m\u001b[1;33m=\u001b[0m\u001b[0mpd\u001b[0m\u001b[1;33m.\u001b[0m\u001b[0mDataFrame\u001b[0m\u001b[1;33m(\u001b[0m\u001b[0mTotal_sales\u001b[0m\u001b[1;33m)\u001b[0m\u001b[1;33m\u001b[0m\u001b[1;33m\u001b[0m\u001b[0m\n\u001b[0m",
      "\u001b[1;32m~\\AppData\\Roaming\\Python\\Python312\\site-packages\\pandas\\core\\frame.py\u001b[0m in \u001b[0;36m?\u001b[1;34m(self, key, value)\u001b[0m\n\u001b[0;32m   4297\u001b[0m             \u001b[0mself\u001b[0m\u001b[1;33m.\u001b[0m\u001b[0m_setitem_frame\u001b[0m\u001b[1;33m(\u001b[0m\u001b[0mkey\u001b[0m\u001b[1;33m,\u001b[0m \u001b[0mvalue\u001b[0m\u001b[1;33m)\u001b[0m\u001b[1;33m\u001b[0m\u001b[1;33m\u001b[0m\u001b[0m\n\u001b[0;32m   4298\u001b[0m         \u001b[1;32melif\u001b[0m \u001b[0misinstance\u001b[0m\u001b[1;33m(\u001b[0m\u001b[0mkey\u001b[0m\u001b[1;33m,\u001b[0m \u001b[1;33m(\u001b[0m\u001b[0mSeries\u001b[0m\u001b[1;33m,\u001b[0m \u001b[0mnp\u001b[0m\u001b[1;33m.\u001b[0m\u001b[0mndarray\u001b[0m\u001b[1;33m,\u001b[0m \u001b[0mlist\u001b[0m\u001b[1;33m,\u001b[0m \u001b[0mIndex\u001b[0m\u001b[1;33m)\u001b[0m\u001b[1;33m)\u001b[0m\u001b[1;33m:\u001b[0m\u001b[1;33m\u001b[0m\u001b[1;33m\u001b[0m\u001b[0m\n\u001b[0;32m   4299\u001b[0m             \u001b[0mself\u001b[0m\u001b[1;33m.\u001b[0m\u001b[0m_setitem_array\u001b[0m\u001b[1;33m(\u001b[0m\u001b[0mkey\u001b[0m\u001b[1;33m,\u001b[0m \u001b[0mvalue\u001b[0m\u001b[1;33m)\u001b[0m\u001b[1;33m\u001b[0m\u001b[1;33m\u001b[0m\u001b[0m\n\u001b[0;32m   4300\u001b[0m         \u001b[1;32melif\u001b[0m \u001b[0misinstance\u001b[0m\u001b[1;33m(\u001b[0m\u001b[0mvalue\u001b[0m\u001b[1;33m,\u001b[0m \u001b[0mDataFrame\u001b[0m\u001b[1;33m)\u001b[0m\u001b[1;33m:\u001b[0m\u001b[1;33m\u001b[0m\u001b[1;33m\u001b[0m\u001b[0m\n\u001b[1;32m-> 4301\u001b[1;33m             \u001b[0mself\u001b[0m\u001b[1;33m.\u001b[0m\u001b[0m_set_item_frame_value\u001b[0m\u001b[1;33m(\u001b[0m\u001b[0mkey\u001b[0m\u001b[1;33m,\u001b[0m \u001b[0mvalue\u001b[0m\u001b[1;33m)\u001b[0m\u001b[1;33m\u001b[0m\u001b[1;33m\u001b[0m\u001b[0m\n\u001b[0m\u001b[0;32m   4302\u001b[0m         elif (\n\u001b[0;32m   4303\u001b[0m             \u001b[0mis_list_like\u001b[0m\u001b[1;33m(\u001b[0m\u001b[0mvalue\u001b[0m\u001b[1;33m)\u001b[0m\u001b[1;33m\u001b[0m\u001b[1;33m\u001b[0m\u001b[0m\n\u001b[0;32m   4304\u001b[0m             \u001b[1;32mand\u001b[0m \u001b[1;32mnot\u001b[0m \u001b[0mself\u001b[0m\u001b[1;33m.\u001b[0m\u001b[0mcolumns\u001b[0m\u001b[1;33m.\u001b[0m\u001b[0mis_unique\u001b[0m\u001b[1;33m\u001b[0m\u001b[1;33m\u001b[0m\u001b[0m\n",
      "\u001b[1;32m~\\AppData\\Roaming\\Python\\Python312\\site-packages\\pandas\\core\\frame.py\u001b[0m in \u001b[0;36m?\u001b[1;34m(self, key, value)\u001b[0m\n\u001b[0;32m   4455\u001b[0m \u001b[1;33m\u001b[0m\u001b[0m\n\u001b[0;32m   4456\u001b[0m             \u001b[1;32mreturn\u001b[0m \u001b[0mself\u001b[0m\u001b[1;33m.\u001b[0m\u001b[0misetitem\u001b[0m\u001b[1;33m(\u001b[0m\u001b[0mlocs\u001b[0m\u001b[1;33m,\u001b[0m \u001b[0mvalue\u001b[0m\u001b[1;33m)\u001b[0m\u001b[1;33m\u001b[0m\u001b[1;33m\u001b[0m\u001b[0m\n\u001b[0;32m   4457\u001b[0m \u001b[1;33m\u001b[0m\u001b[0m\n\u001b[0;32m   4458\u001b[0m         \u001b[1;32mif\u001b[0m \u001b[0mlen\u001b[0m\u001b[1;33m(\u001b[0m\u001b[0mvalue\u001b[0m\u001b[1;33m.\u001b[0m\u001b[0mcolumns\u001b[0m\u001b[1;33m)\u001b[0m \u001b[1;33m>\u001b[0m \u001b[1;36m1\u001b[0m\u001b[1;33m:\u001b[0m\u001b[1;33m\u001b[0m\u001b[1;33m\u001b[0m\u001b[0m\n\u001b[1;32m-> 4459\u001b[1;33m             raise ValueError(\n\u001b[0m\u001b[0;32m   4460\u001b[0m                 \u001b[1;34m\"Cannot set a DataFrame with multiple columns to the single \"\u001b[0m\u001b[1;33m\u001b[0m\u001b[1;33m\u001b[0m\u001b[0m\n\u001b[0;32m   4461\u001b[0m                 \u001b[1;33mf\"\u001b[0m\u001b[1;33mcolumn \u001b[0m\u001b[1;33m{\u001b[0m\u001b[0mkey\u001b[0m\u001b[1;33m}\u001b[0m\u001b[1;33m\"\u001b[0m\u001b[1;33m\u001b[0m\u001b[1;33m\u001b[0m\u001b[0m\n\u001b[0;32m   4462\u001b[0m             \u001b[1;33m)\u001b[0m\u001b[1;33m\u001b[0m\u001b[1;33m\u001b[0m\u001b[0m\n",
      "\u001b[1;31mValueError\u001b[0m: Cannot set a DataFrame with multiple columns to the single column Total_sales"
     ]
    }
   ],
   "source": [
    "weekly_sales[\"Total_sales\"]=pd.DataFrame(Total_sales)"
   ]
  },
  {
   "cell_type": "code",
   "execution_count": 107,
   "id": "d03c9075-978e-4870-a584-5ad52cbb6c58",
   "metadata": {},
   "outputs": [
    {
     "data": {
      "text/html": [
       "<div>\n",
       "<style scoped>\n",
       "    .dataframe tbody tr th:only-of-type {\n",
       "        vertical-align: middle;\n",
       "    }\n",
       "\n",
       "    .dataframe tbody tr th {\n",
       "        vertical-align: top;\n",
       "    }\n",
       "\n",
       "    .dataframe thead th {\n",
       "        text-align: right;\n",
       "    }\n",
       "</style>\n",
       "<table border=\"1\" class=\"dataframe\">\n",
       "  <thead>\n",
       "    <tr style=\"text-align: right;\">\n",
       "      <th></th>\n",
       "      <th>Almond</th>\n",
       "      <th>Cashew</th>\n",
       "      <th>Peanut</th>\n",
       "    </tr>\n",
       "  </thead>\n",
       "  <tbody>\n",
       "    <tr>\n",
       "      <th>Mon</th>\n",
       "      <td>17</td>\n",
       "      <td>16</td>\n",
       "      <td>15</td>\n",
       "    </tr>\n",
       "    <tr>\n",
       "      <th>Tues</th>\n",
       "      <td>9</td>\n",
       "      <td>0</td>\n",
       "      <td>5</td>\n",
       "    </tr>\n",
       "    <tr>\n",
       "      <th>wed</th>\n",
       "      <td>8</td>\n",
       "      <td>0</td>\n",
       "      <td>8</td>\n",
       "    </tr>\n",
       "    <tr>\n",
       "      <th>Thu</th>\n",
       "      <td>8</td>\n",
       "      <td>2</td>\n",
       "      <td>15</td>\n",
       "    </tr>\n",
       "    <tr>\n",
       "      <th>Fri</th>\n",
       "      <td>13</td>\n",
       "      <td>19</td>\n",
       "      <td>11</td>\n",
       "    </tr>\n",
       "    <tr>\n",
       "      <th>Sat</th>\n",
       "      <td>1</td>\n",
       "      <td>1</td>\n",
       "      <td>5</td>\n",
       "    </tr>\n",
       "  </tbody>\n",
       "</table>\n",
       "</div>"
      ],
      "text/plain": [
       "      Almond  Cashew  Peanut\n",
       "Mon       17      16      15\n",
       "Tues       9       0       5\n",
       "wed        8       0       8\n",
       "Thu        8       2      15\n",
       "Fri       13      19      11\n",
       "Sat        1       1       5"
      ]
     },
     "execution_count": 107,
     "metadata": {},
     "output_type": "execute_result"
    }
   ],
   "source": [
    "weekly_sales"
   ]
  },
  {
   "cell_type": "markdown",
   "id": "987bdd1c-b67d-4fa0-8d68-d84e4b133f05",
   "metadata": {},
   "source": [
    "# Comparison Operator"
   ]
  },
  {
   "cell_type": "code",
   "execution_count": 108,
   "id": "7be1a290-ba5b-4c0f-b395-604796cb271c",
   "metadata": {},
   "outputs": [
    {
     "data": {
      "text/plain": [
       "array([1, 2, 3, 4, 5, 6, 7, 8, 9])"
      ]
     },
     "execution_count": 108,
     "metadata": {},
     "output_type": "execute_result"
    }
   ],
   "source": [
    "a1"
   ]
  },
  {
   "cell_type": "code",
   "execution_count": 109,
   "id": "0fad8b38-7503-438f-b0da-74791f304b03",
   "metadata": {},
   "outputs": [
    {
     "data": {
      "text/plain": [
       "array([[1. , 3. , 4.6, 4.9, 7. ],\n",
       "       [1. , 4. , 2.7, 3. , 5.5],\n",
       "       [3.5, 2.1, 5.9, 4.6, 4. ]])"
      ]
     },
     "execution_count": 109,
     "metadata": {},
     "output_type": "execute_result"
    }
   ],
   "source": [
    "a2"
   ]
  },
  {
   "cell_type": "code",
   "execution_count": 110,
   "id": "b723b06e-db2a-409e-98af-903a845edeee",
   "metadata": {},
   "outputs": [
    {
     "ename": "ValueError",
     "evalue": "operands could not be broadcast together with shapes (9,) (3,5) ",
     "output_type": "error",
     "traceback": [
      "\u001b[1;31m---------------------------------------------------------------------------\u001b[0m",
      "\u001b[1;31mValueError\u001b[0m                                Traceback (most recent call last)",
      "Cell \u001b[1;32mIn[110], line 1\u001b[0m\n\u001b[1;32m----> 1\u001b[0m \u001b[43ma1\u001b[49m\u001b[38;5;241;43m>\u001b[39;49m\u001b[43ma2\u001b[49m\n",
      "\u001b[1;31mValueError\u001b[0m: operands could not be broadcast together with shapes (9,) (3,5) "
     ]
    }
   ],
   "source": [
    "a1>a2"
   ]
  },
  {
   "cell_type": "code",
   "execution_count": 111,
   "id": "b2266062-f23e-455d-9e2d-df17b6772042",
   "metadata": {},
   "outputs": [],
   "source": [
    "a11=np.random.randint(20,size=(3,5))\n",
    "a12=np.random.randint(20,size=(3,5))"
   ]
  },
  {
   "cell_type": "code",
   "execution_count": 112,
   "id": "4f95b654-c61d-4ff4-af88-7ae068ed03d1",
   "metadata": {},
   "outputs": [
    {
     "data": {
      "text/plain": [
       "array([[False,  True,  True, False,  True],\n",
       "       [False,  True, False,  True, False],\n",
       "       [ True,  True,  True, False, False]])"
      ]
     },
     "execution_count": 112,
     "metadata": {},
     "output_type": "execute_result"
    }
   ],
   "source": [
    "a11>a12"
   ]
  },
  {
   "cell_type": "code",
   "execution_count": 113,
   "id": "e3fb1427-781c-49a9-a3a2-4bed66206104",
   "metadata": {},
   "outputs": [
    {
     "data": {
      "text/plain": [
       "array([[False,  True,  True, False,  True],\n",
       "       [False,  True, False,  True, False],\n",
       "       [ True,  True,  True, False, False]])"
      ]
     },
     "execution_count": 113,
     "metadata": {},
     "output_type": "execute_result"
    }
   ],
   "source": [
    "a11>=a12"
   ]
  },
  {
   "cell_type": "code",
   "execution_count": 114,
   "id": "8e767aab-ba73-4626-a5f7-345dfbb4106d",
   "metadata": {},
   "outputs": [
    {
     "data": {
      "text/plain": [
       "array([[False,  True,  True,  True,  True],\n",
       "       [False,  True, False,  True, False],\n",
       "       [ True,  True,  True,  True, False]])"
      ]
     },
     "execution_count": 114,
     "metadata": {},
     "output_type": "execute_result"
    }
   ],
   "source": [
    "a11>10"
   ]
  },
  {
   "cell_type": "code",
   "execution_count": 115,
   "id": "37a2595c-7568-421e-8de1-054f36d9db0f",
   "metadata": {},
   "outputs": [
    {
     "data": {
      "text/plain": [
       "array([[False, False, False, False, False],\n",
       "       [False, False, False, False, False],\n",
       "       [False, False, False, False, False]])"
      ]
     },
     "execution_count": 115,
     "metadata": {},
     "output_type": "execute_result"
    }
   ],
   "source": [
    "a11==a12"
   ]
  },
  {
   "cell_type": "markdown",
   "id": "9a9ee546-fba8-4b88-b6c3-99536ca0adbf",
   "metadata": {},
   "source": [
    "# 5.Sorting Array"
   ]
  },
  {
   "cell_type": "code",
   "execution_count": 116,
   "id": "3d1357e7-db67-4b2b-adf0-c08cce13bc47",
   "metadata": {},
   "outputs": [
    {
     "data": {
      "text/plain": [
       "array([[6, 1, 1, 7, 9, 6],\n",
       "       [0, 6, 8, 9, 1, 6],\n",
       "       [4, 0, 6, 3, 6, 6],\n",
       "       [1, 8, 6, 1, 3, 2]])"
      ]
     },
     "execution_count": 116,
     "metadata": {},
     "output_type": "execute_result"
    }
   ],
   "source": [
    "random_array=np.random.randint(10,size=(4,6))\n",
    "random_array"
   ]
  },
  {
   "cell_type": "code",
   "execution_count": 117,
   "id": "79c1f4ad-2848-4faf-8088-6f34f5c57eb2",
   "metadata": {},
   "outputs": [
    {
     "data": {
      "text/plain": [
       "(4, 6)"
      ]
     },
     "execution_count": 117,
     "metadata": {},
     "output_type": "execute_result"
    }
   ],
   "source": [
    "random_array.shape"
   ]
  },
  {
   "cell_type": "code",
   "execution_count": 118,
   "id": "4d9e09dd-5332-4110-a4a0-7aefa1429f18",
   "metadata": {},
   "outputs": [
    {
     "data": {
      "text/plain": [
       "array([[1, 1, 6, 6, 7, 9],\n",
       "       [0, 1, 6, 6, 8, 9],\n",
       "       [0, 3, 4, 6, 6, 6],\n",
       "       [1, 1, 2, 3, 6, 8]])"
      ]
     },
     "execution_count": 118,
     "metadata": {},
     "output_type": "execute_result"
    }
   ],
   "source": [
    "np.sort(random_array)\n",
    "# sort elements row wise"
   ]
  },
  {
   "cell_type": "code",
   "execution_count": 119,
   "id": "7315bc26-b999-435d-bb37-a95cd76e3f4b",
   "metadata": {},
   "outputs": [
    {
     "data": {
      "text/plain": [
       "array([[1, 2, 0, 5, 3, 4],\n",
       "       [0, 4, 1, 5, 2, 3],\n",
       "       [1, 3, 0, 2, 4, 5],\n",
       "       [0, 3, 5, 4, 2, 1]], dtype=int64)"
      ]
     },
     "execution_count": 119,
     "metadata": {},
     "output_type": "execute_result"
    }
   ],
   "source": [
    "np.argsort(random_array)"
   ]
  },
  {
   "cell_type": "code",
   "execution_count": 120,
   "id": "9bb64217-d2ce-4b13-b025-336218a67e1e",
   "metadata": {},
   "outputs": [
    {
     "data": {
      "text/plain": [
       "array([0, 1, 2, 3, 4, 5, 6, 7, 8], dtype=int64)"
      ]
     },
     "execution_count": 120,
     "metadata": {},
     "output_type": "execute_result"
    }
   ],
   "source": [
    "np.argsort(a1)"
   ]
  },
  {
   "cell_type": "code",
   "execution_count": 121,
   "id": "090ff379-c17b-4ffc-a5b8-e3779a0c9d77",
   "metadata": {},
   "outputs": [
    {
     "data": {
      "text/plain": [
       "6"
      ]
     },
     "execution_count": 121,
     "metadata": {},
     "output_type": "execute_result"
    }
   ],
   "source": [
    "np.argmin(random_array)"
   ]
  },
  {
   "cell_type": "code",
   "execution_count": 122,
   "id": "58be621d-a376-4c1a-9de9-4411e776ba13",
   "metadata": {},
   "outputs": [
    {
     "data": {
      "text/plain": [
       "4"
      ]
     },
     "execution_count": 122,
     "metadata": {},
     "output_type": "execute_result"
    }
   ],
   "source": [
    "np.argmax(random_array)"
   ]
  },
  {
   "cell_type": "code",
   "execution_count": 123,
   "id": "f3975ce9-c936-4323-89f1-4c6404333d55",
   "metadata": {},
   "outputs": [],
   "source": [
    "# arg gives position without args gives values\n"
   ]
  },
  {
   "cell_type": "code",
   "execution_count": 124,
   "id": "679e646c-96a4-41cf-9d7b-27a21bde2bf3",
   "metadata": {},
   "outputs": [
    {
     "data": {
      "text/plain": [
       "array([1, 2, 0, 3, 1, 3], dtype=int64)"
      ]
     },
     "execution_count": 124,
     "metadata": {},
     "output_type": "execute_result"
    }
   ],
   "source": [
    "np.argmin(random_array,axis=0)\n",
    "#Column wise"
   ]
  },
  {
   "cell_type": "code",
   "execution_count": 125,
   "id": "bfb13c6c-c1b8-412e-be1e-429d558787fe",
   "metadata": {},
   "outputs": [
    {
     "data": {
      "text/plain": [
       "array([1, 0, 1, 0], dtype=int64)"
      ]
     },
     "execution_count": 125,
     "metadata": {},
     "output_type": "execute_result"
    }
   ],
   "source": [
    "np.argmin(random_array,axis=1)\n",
    "# Row wise"
   ]
  },
  {
   "cell_type": "markdown",
   "id": "68ec20f7-66ca-4415-a613-bd92aab081d4",
   "metadata": {},
   "source": [
    "# 6. practical  example to see"
   ]
  },
  {
   "cell_type": "markdown",
   "id": "766f5457-e48a-4f5e-a55e-9695ef43b350",
   "metadata": {},
   "source": [
    "#changes in numbers to find pattern\n",
    "<img src=\"images/panda.png\"/>"
   ]
  },
  {
   "cell_type": "code",
   "execution_count": 126,
   "id": "759e1cab-e310-4ba8-89e9-deb4ef1b30be",
   "metadata": {},
   "outputs": [],
   "source": [
    "# images will show in markdown "
   ]
  },
  {
   "cell_type": "code",
   "execution_count": 127,
   "id": "081d05ba-4f43-48db-a3ed-b1618b5cd8ce",
   "metadata": {},
   "outputs": [],
   "source": [
    "# turn image in numpy array\n",
    "from matplotlib.image import imread\n",
    "panda=imread(\"images/panda.png\")"
   ]
  },
  {
   "cell_type": "code",
   "execution_count": 128,
   "id": "8839ab0c-99ff-42c9-b5a9-df2920fb02ff",
   "metadata": {},
   "outputs": [
    {
     "data": {
      "text/plain": [
       "numpy.ndarray"
      ]
     },
     "execution_count": 128,
     "metadata": {},
     "output_type": "execute_result"
    }
   ],
   "source": [
    "type(panda)"
   ]
  },
  {
   "cell_type": "code",
   "execution_count": 129,
   "id": "9af62b20-a6e9-42b8-8124-fcd98165ab3e",
   "metadata": {},
   "outputs": [
    {
     "data": {
      "text/plain": [
       "array([[[0.05490196, 0.10588235, 0.06666667],\n",
       "        [0.05490196, 0.10588235, 0.06666667],\n",
       "        [0.05490196, 0.10588235, 0.06666667],\n",
       "        ...,\n",
       "        [0.16470589, 0.12941177, 0.09411765],\n",
       "        [0.16470589, 0.12941177, 0.09411765],\n",
       "        [0.16470589, 0.12941177, 0.09411765]],\n",
       "\n",
       "       [[0.05490196, 0.10588235, 0.06666667],\n",
       "        [0.05490196, 0.10588235, 0.06666667],\n",
       "        [0.05490196, 0.10588235, 0.06666667],\n",
       "        ...,\n",
       "        [0.16470589, 0.12941177, 0.09411765],\n",
       "        [0.16470589, 0.12941177, 0.09411765],\n",
       "        [0.16470589, 0.12941177, 0.09411765]],\n",
       "\n",
       "       [[0.05490196, 0.10588235, 0.06666667],\n",
       "        [0.05490196, 0.10588235, 0.06666667],\n",
       "        [0.05490196, 0.10588235, 0.06666667],\n",
       "        ...,\n",
       "        [0.16470589, 0.12941177, 0.09411765],\n",
       "        [0.16470589, 0.12941177, 0.09411765],\n",
       "        [0.16470589, 0.12941177, 0.09411765]],\n",
       "\n",
       "       ...,\n",
       "\n",
       "       [[0.13333334, 0.07450981, 0.05490196],\n",
       "        [0.12156863, 0.0627451 , 0.04313726],\n",
       "        [0.10980392, 0.05098039, 0.03137255],\n",
       "        ...,\n",
       "        [0.02745098, 0.02745098, 0.03529412],\n",
       "        [0.02745098, 0.02745098, 0.03529412],\n",
       "        [0.02745098, 0.02745098, 0.03529412]],\n",
       "\n",
       "       [[0.13333334, 0.07450981, 0.05490196],\n",
       "        [0.12156863, 0.0627451 , 0.04313726],\n",
       "        [0.12156863, 0.0627451 , 0.04313726],\n",
       "        ...,\n",
       "        [0.02352941, 0.02352941, 0.03137255],\n",
       "        [0.02352941, 0.02352941, 0.03137255],\n",
       "        [0.02352941, 0.02352941, 0.03137255]],\n",
       "\n",
       "       [[0.13333334, 0.07450981, 0.05490196],\n",
       "        [0.12156863, 0.0627451 , 0.04313726],\n",
       "        [0.12156863, 0.0627451 , 0.04313726],\n",
       "        ...,\n",
       "        [0.02352941, 0.02352941, 0.03137255],\n",
       "        [0.02352941, 0.02352941, 0.03137255],\n",
       "        [0.02352941, 0.02352941, 0.03137255]]], dtype=float32)"
      ]
     },
     "execution_count": 129,
     "metadata": {},
     "output_type": "execute_result"
    }
   ],
   "source": [
    "panda\n",
    "#pixel values"
   ]
  },
  {
   "cell_type": "code",
   "execution_count": 130,
   "id": "6aa0a314-0f13-4519-95d4-2bac26479509",
   "metadata": {},
   "outputs": [
    {
     "data": {
      "text/plain": [
       "(24465000, (2330, 3500, 3), 3)"
      ]
     },
     "execution_count": 130,
     "metadata": {},
     "output_type": "execute_result"
    }
   ],
   "source": [
    "panda.size,panda.shape,panda.ndim"
   ]
  },
  {
   "cell_type": "markdown",
   "id": "77ea2ff2-8512-49ad-8206-a7edcaafd395",
   "metadata": {},
   "source": [
    "<img src=\"images/dog-photo.png\"/>"
   ]
  },
  {
   "cell_type": "code",
   "execution_count": 131,
   "id": "09ec8f53-49b6-47e2-8dd3-23e2094d5890",
   "metadata": {},
   "outputs": [],
   "source": [
    "dog=imread(\"images/dog-photo.png\")"
   ]
  },
  {
   "cell_type": "code",
   "execution_count": 132,
   "id": "246db7cf-1959-4755-9526-85d9732bbbc2",
   "metadata": {},
   "outputs": [
    {
     "data": {
      "text/plain": [
       "(993600, (432, 575, 4), 3)"
      ]
     },
     "execution_count": 132,
     "metadata": {},
     "output_type": "execute_result"
    }
   ],
   "source": [
    "dog.size,dog.shape,dog.ndim"
   ]
  },
  {
   "cell_type": "code",
   "execution_count": null,
   "id": "f6de6fa7-2344-48b0-a5ad-3190821d9c4f",
   "metadata": {},
   "outputs": [],
   "source": []
  },
  {
   "cell_type": "code",
   "execution_count": null,
   "id": "01504d90-d255-4f89-aee5-fe6992face65",
   "metadata": {},
   "outputs": [],
   "source": []
  }
 ],
 "metadata": {
  "kernelspec": {
   "display_name": "Python 3 (ipykernel)",
   "language": "python",
   "name": "python3"
  },
  "language_info": {
   "codemirror_mode": {
    "name": "ipython",
    "version": 3
   },
   "file_extension": ".py",
   "mimetype": "text/x-python",
   "name": "python",
   "nbconvert_exporter": "python",
   "pygments_lexer": "ipython3",
   "version": "3.12.5"
  }
 },
 "nbformat": 4,
 "nbformat_minor": 5
}
